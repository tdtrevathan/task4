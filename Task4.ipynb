{
  "nbformat": 4,
  "nbformat_minor": 0,
  "metadata": {
    "colab": {
      "provenance": []
    },
    "kernelspec": {
      "name": "python3",
      "display_name": "Python 3"
    },
    "language_info": {
      "name": "python"
    }
  },
  "cells": [
    {
      "cell_type": "markdown",
      "source": [
        "# Base Model Componenets\n"
      ],
      "metadata": {
        "id": "UaDJ4j0eRkKO"
      }
    },
    {
      "cell_type": "markdown",
      "source": [
        "## Imports"
      ],
      "metadata": {
        "id": "R6BVkhz4PFJV"
      }
    },
    {
      "cell_type": "code",
      "execution_count": null,
      "metadata": {
        "id": "vdXoNZ3xO11c"
      },
      "outputs": [],
      "source": [
        "import os\n",
        "import torch\n",
        "import torch.nn as nn\n",
        "import torch.nn.functional as F\n",
        "import torchvision\n",
        "from torchvision import transforms\n",
        "from torchvision.utils import save_image\n",
        "\n",
        "import numpy as np\n",
        "import matplotlib.pyplot as plt\n",
        "%matplotlib inline\n",
        "from sklearn.metrics.cluster import normalized_mutual_info_score"
      ]
    },
    {
      "cell_type": "markdown",
      "source": [
        "## Function to show images\n",
        "\n"
      ],
      "metadata": {
        "id": "fmdL9KjlPjxu"
      }
    },
    {
      "cell_type": "code",
      "source": [
        "def show(img):\n",
        "    npimg = img.numpy()\n",
        "    plt.imshow(np.transpose(npimg, (1,2,0)), interpolation='nearest')\n",
        "    "
      ],
      "metadata": {
        "id": "s7OL2T3AP1e3"
      },
      "execution_count": null,
      "outputs": []
    },
    {
      "cell_type": "markdown",
      "source": [
        "## Function to regenerate an image from a given image"
      ],
      "metadata": {
        "id": "RbiOhWwsP4Df"
      }
    },
    {
      "cell_type": "code",
      "source": [
        "def plot_reconstruction(model, n=24):\n",
        "    x,_ = next(iter(data_loader))\n",
        "    x = x[:n,:,:,:].to(device)\n",
        "    try:\n",
        "        out, _, _, log_p = model(x.view(-1, image_size)) \n",
        "    except:\n",
        "        out, _, _ = model(x.view(-1, image_size)) \n",
        "    x_concat = torch.cat([x.view(-1, 1, 28, 28), out.view(-1, 1, 28, 28)], dim=3)\n",
        "    out_grid = torchvision.utils.make_grid(x_concat).cpu().data\n",
        "    show(out_grid)\n"
      ],
      "metadata": {
        "id": "DXdX4f1fQDWU"
      },
      "execution_count": null,
      "outputs": []
    },
    {
      "cell_type": "markdown",
      "source": [
        "## Function to generate an image from an arbitary distribution. "
      ],
      "metadata": {
        "id": "txcyhGHMQHKu"
      }
    },
    {
      "cell_type": "code",
      "source": [
        "def plot_generation(model, n=24):\n",
        "    with torch.no_grad():\n",
        "        z = torch.randn(n, z_dim).to(device)\n",
        "        out = model.decode(z).view(-1, 1, 28, 28)\n",
        "\n",
        "    out_grid = torchvision.utils.make_grid(out).cpu()\n",
        "    show(out_grid)"
      ],
      "metadata": {
        "id": "7ynti7J5QQj_"
      },
      "execution_count": null,
      "outputs": []
    },
    {
      "cell_type": "markdown",
      "source": [
        "## Configuretions\n",
        "\n"
      ],
      "metadata": {
        "id": "u8vyQ4zdQXjp"
      }
    },
    {
      "cell_type": "code",
      "source": [
        "# Device configuration\n",
        "device = torch.device('cuda' if torch.cuda.is_available() else 'cpu')\n",
        "\n",
        "# Create a directory if not exists\n",
        "sample_dir = 'samples'\n",
        "if not os.path.exists(sample_dir):\n",
        "    os.makedirs(sample_dir)"
      ],
      "metadata": {
        "id": "OLVmMrrZQec0"
      },
      "execution_count": null,
      "outputs": []
    },
    {
      "cell_type": "markdown",
      "source": [
        "## Dataset Loading"
      ],
      "metadata": {
        "id": "1I8LkwErQiFG"
      }
    },
    {
      "cell_type": "code",
      "source": [
        "data_dir = 'data'\n",
        "# MNIST dataset\n",
        "dataset = torchvision.datasets.MNIST(root=data_dir,\n",
        "                                     train=True,\n",
        "                                     transform=transforms.ToTensor(),\n",
        "                                     download=True)\n",
        "\n",
        "# Data loader\n",
        "data_loader = torch.utils.data.DataLoader(dataset=dataset,\n",
        "                                          batch_size=128, \n",
        "                                          shuffle=True)\n",
        "\n",
        "test_loader = torch.utils.data.DataLoader(\n",
        "    torchvision.datasets.MNIST(data_dir, train=False, download=True, transform=transforms.ToTensor()),\n",
        "    batch_size=10, shuffle=False)"
      ],
      "metadata": {
        "id": "nPpg_SyKQl61"
      },
      "execution_count": null,
      "outputs": []
    },
    {
      "cell_type": "markdown",
      "source": [
        "## VAE Architecture"
      ],
      "metadata": {
        "id": "M5y9XJZxQtMd"
      }
    },
    {
      "cell_type": "code",
      "source": [
        "\n",
        "# VAE model\n",
        "class VAE(nn.Module):\n",
        "    def __init__(self, image_size=784, h_dim=400, z_dim=20):\n",
        "        super(VAE, self).__init__()\n",
        "        self.fc1 = nn.Linear(image_size, h_dim)\n",
        "        self.fc2 = nn.Linear(h_dim, z_dim)\n",
        "        self.fc3 = nn.Linear(h_dim, z_dim)\n",
        "        self.fc4 = nn.Linear(z_dim, h_dim)\n",
        "        self.fc5 = nn.Linear(h_dim, image_size)\n",
        "        \n",
        "    def encode(self, x):\n",
        "        h = F.relu(self.fc1(x))\n",
        "        return self.fc2(h), self.fc3(h)\n",
        "    \n",
        "    def reparameterize(self, mu, log_var):\n",
        "        std = torch.exp(log_var/2)\n",
        "        eps = torch.randn_like(std)\n",
        "        return mu + eps * std\n",
        "\n",
        "    def decode(self, z):\n",
        "        h = F.relu(self.fc4(z))\n",
        "        return torch.sigmoid(self.fc5(h))\n",
        "    \n",
        "    def forward(self, x):\n",
        "        mu, log_var = self.encode(x)\n",
        "        z = self.reparameterize(mu, log_var)\n",
        "        x_reconst = self.decode(z)\n",
        "        return x_reconst, mu, log_var\n"
      ],
      "metadata": {
        "id": "1TWr4yfkQ1CN"
      },
      "execution_count": null,
      "outputs": []
    },
    {
      "cell_type": "markdown",
      "source": [
        "## Create VAE model"
      ],
      "metadata": {
        "id": "-H8qhCq6Q8W9"
      }
    },
    {
      "cell_type": "code",
      "source": [
        "# Hyper-parameters\n",
        "image_size = 784\n",
        "h_dim = 400\n",
        "z_dim = 20\n",
        "num_epochs = 15\n",
        "learning_rate = 1e-3\n",
        "\n",
        "model = VAE().to(device)\n",
        "optimizer = torch.optim.Adam(model.parameters(), lr=learning_rate)"
      ],
      "metadata": {
        "id": "eOswJd_pQ-3O"
      },
      "execution_count": null,
      "outputs": []
    },
    {
      "cell_type": "markdown",
      "source": [
        "## Train the model"
      ],
      "metadata": {
        "id": "wqwzR84MRI2d"
      }
    },
    {
      "cell_type": "code",
      "source": [
        "# Start training\n",
        "for epoch in range(num_epochs):\n",
        "    for i, (x, _) in enumerate(data_loader):\n",
        "        # Forward pass\n",
        "        x = x.to(device).view(-1, image_size)\n",
        "        x_reconst, mu, log_var = model(x)\n",
        "        \n",
        "        # Compute reconstruction loss and kl divergence\n",
        "        # For KL divergence between Gaussians, see Appendix B in VAE paper or (Doersch, 2016):\n",
        "        # https://arxiv.org/abs/1606.05908\n",
        "        reconst_loss = F.binary_cross_entropy(x_reconst, x, reduction='sum')\n",
        "        kl_div = - 0.5 * torch.sum(1 + log_var - mu.pow(2) - log_var.exp())\n",
        "        \n",
        "        # Backprop and optimize\n",
        "        loss = reconst_loss + kl_div\n",
        "        optimizer.zero_grad()\n",
        "        loss.backward()\n",
        "        optimizer.step()\n",
        "        \n",
        "        if (i+1) % 10 == 0:\n",
        "            print (\"Epoch[{}/{}], Step [{}/{}], Reconst Loss: {:.4f}, KL Div: {:.4f}\" \n",
        "                   .format(epoch+1, num_epochs, i+1, len(data_loader), reconst_loss.item()/len(x), kl_div.item()/len(x)))"
      ],
      "metadata": {
        "id": "ZWIuxEGwRLs0"
      },
      "execution_count": null,
      "outputs": []
    },
    {
      "cell_type": "markdown",
      "source": [
        "## Show generation"
      ],
      "metadata": {
        "id": "nphUfNLjROJ9"
      }
    },
    {
      "cell_type": "code",
      "source": [
        "plot_generation(model)"
      ],
      "metadata": {
        "id": "qbOtnabHRYRs"
      },
      "execution_count": null,
      "outputs": []
    },
    {
      "cell_type": "markdown",
      "source": [
        "## Show Reconstraction"
      ],
      "metadata": {
        "id": "ptA5dXg_Rad1"
      }
    },
    {
      "cell_type": "code",
      "source": [
        "plot_reconstruction(model)"
      ],
      "metadata": {
        "id": "YeAlO_-rRdVV"
      },
      "execution_count": null,
      "outputs": []
    },
    {
      "cell_type": "markdown",
      "source": [
        "# Tasks"
      ],
      "metadata": {
        "id": "jMJZYHjoR5CE"
      }
    },
    {
      "cell_type": "markdown",
      "source": [
        "## a.\n",
        "### Change the base three layer model into a four layer model\n",
        "\n",
        "In this task you need to modify the VAE class and convert it into a four layer class"
      ],
      "metadata": {
        "id": "-NPJVUwrSOXq"
      }
    },
    {
      "cell_type": "code",
      "source": [
        "# Change the VAE class"
      ],
      "metadata": {
        "id": "7Q914dbDSfFG"
      },
      "execution_count": null,
      "outputs": []
    },
    {
      "cell_type": "code",
      "source": [
        "# Create new model"
      ],
      "metadata": {
        "id": "oLmuwuQGSiT1"
      },
      "execution_count": null,
      "outputs": []
    },
    {
      "cell_type": "code",
      "source": [
        "# Train new model"
      ],
      "metadata": {
        "id": "XvIc5HFiSm1l"
      },
      "execution_count": null,
      "outputs": []
    },
    {
      "cell_type": "code",
      "source": [
        "# Compare the final loss of the fully trained old model and the new model"
      ],
      "metadata": {
        "id": "g4X7jrTwSrX1"
      },
      "execution_count": null,
      "outputs": []
    },
    {
      "cell_type": "code",
      "source": [
        "# Compare the reconstructed images from the two models"
      ],
      "metadata": {
        "id": "Kdy2TJTUSydm"
      },
      "execution_count": null,
      "outputs": []
    },
    {
      "cell_type": "code",
      "source": [
        "# Compare generate images from the two models"
      ],
      "metadata": {
        "id": "EmUB-4zKS7BE"
      },
      "execution_count": null,
      "outputs": []
    },
    {
      "cell_type": "markdown",
      "source": [
        "## b.\n",
        "### Change the layers\n",
        "\n",
        "In this experiment you will change the layers of the VAE using different combinations and compare the results"
      ],
      "metadata": {
        "id": "afWCAirbTAR-"
      }
    },
    {
      "cell_type": "code",
      "source": [
        "# Create different 3 layer VAE models with different h-dim and z-dim"
      ],
      "metadata": {
        "id": "yAGWBB7XTj82"
      },
      "execution_count": null,
      "outputs": []
    },
    {
      "cell_type": "code",
      "source": [
        "# Train all models"
      ],
      "metadata": {
        "id": "xQ2w31CfVHFX"
      },
      "execution_count": null,
      "outputs": []
    },
    {
      "cell_type": "code",
      "source": [
        "# Compare the models based on their optimal loss"
      ],
      "metadata": {
        "id": "eNvXVSBvVL7m"
      },
      "execution_count": null,
      "outputs": []
    },
    {
      "cell_type": "code",
      "source": [
        "# Compare models based on their generated images (visual inspection)"
      ],
      "metadata": {
        "id": "3S56bqe8VPxW"
      },
      "execution_count": null,
      "outputs": []
    },
    {
      "cell_type": "code",
      "source": [
        "# Compare models based on their regenerated images (visual inspection)"
      ],
      "metadata": {
        "id": "IaKSG0e_VWaN"
      },
      "execution_count": null,
      "outputs": []
    },
    {
      "cell_type": "markdown",
      "source": [
        "## c.\n",
        "### Create a Normal Autoencoder\n",
        "\n",
        "In this experiment you will convert the current model into an autoencoder"
      ],
      "metadata": {
        "id": "Ov9ZCZQBfD5q"
      }
    },
    {
      "cell_type": "code",
      "source": [
        "# Convert the VAE class into an 3layer autoencoder"
      ],
      "metadata": {
        "id": "im_WBqfXfXl-"
      },
      "execution_count": null,
      "outputs": []
    },
    {
      "cell_type": "code",
      "source": [
        "# Create the autoenocder model"
      ],
      "metadata": {
        "id": "wr-Faa5pfdIG"
      },
      "execution_count": null,
      "outputs": []
    },
    {
      "cell_type": "code",
      "source": [
        "# Change the training procedure to train the auto-enocder"
      ],
      "metadata": {
        "id": "RrT9ZTd3fgod"
      },
      "execution_count": null,
      "outputs": []
    },
    {
      "cell_type": "code",
      "source": [
        "# Compare the models based on their optimal loss"
      ],
      "metadata": {
        "id": "wRrawvWyfnYx"
      },
      "execution_count": null,
      "outputs": []
    },
    {
      "cell_type": "code",
      "source": [
        "# Compare models based on their generated images (visual inspection)"
      ],
      "metadata": {
        "id": "qz3sIZEXfwKk"
      },
      "execution_count": null,
      "outputs": []
    },
    {
      "cell_type": "code",
      "source": [
        "# Compare models based on their regenerated images (visual inspection)"
      ],
      "metadata": {
        "id": "hYTUOvDofyHG"
      },
      "execution_count": null,
      "outputs": []
    },
    {
      "cell_type": "markdown",
      "source": [
        "## References\n",
        "1. https://github.com/dataflowr/notebooks/blob/master/HW3/VAE_clustering_empty.ipynb"
      ],
      "metadata": {
        "id": "c9ZQ5hNvf7Ai"
      }
    }
  ]
}